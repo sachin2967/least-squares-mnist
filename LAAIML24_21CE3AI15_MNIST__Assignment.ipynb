{
  "nbformat": 4,
  "nbformat_minor": 0,
  "metadata": {
    "colab": {
      "provenance": [],
      "authorship_tag": "ABX9TyMY1f63oc6v3VJ2rty43gDG"
    },
    "kernelspec": {
      "name": "python3",
      "display_name": "Python 3"
    },
    "language_info": {
      "name": "python"
    }
  },
  "cells": [
    {
      "cell_type": "markdown",
      "metadata": {
        "id": "RxwPpCPI7k8F"
      },
      "source": [
        "## Step 1: Import Necessary Libraries"
      ]
    },
    {
      "cell_type": "code",
      "source": [
        "from sklearn.datasets import fetch_openml\n",
        "from sklearn.model_selection import train_test_split\n",
        "from sklearn.preprocessing import StandardScaler\n",
        "import numpy as np\n",
        "import matplotlib.pyplot as plt"
      ],
      "metadata": {
        "id": "7lvTv9T-CdEv"
      },
      "execution_count": null,
      "outputs": []
    },
    {
      "cell_type": "markdown",
      "metadata": {
        "id": "A6V7gFz07k8G"
      },
      "source": [
        "## Step 2: Load and Preprocess the MNIST Dataset"
      ]
    },
    {
      "cell_type": "code",
      "source": [
        "mnist = fetch_openml('mnist_784', version=1)\n",
        "X_mnist, y_mnist = mnist[\"data\"], mnist[\"target\"].astype(np.int32)\n",
        "\n",
        "# Normalize the data\n",
        "scaler = StandardScaler()\n",
        "X_mnist_scaled = scaler.fit_transform(X_mnist)\n",
        "\n",
        "# Split the data into training and test sets\n",
        "X_train, X_test, y_train, y_test = train_test_split(X_mnist_scaled, y_mnist, test_size=0.2, random_state=42)\n"
      ],
      "metadata": {
        "id": "XcnEpxrRCnmJ"
      },
      "execution_count": null,
      "outputs": []
    },
    {
      "cell_type": "markdown",
      "metadata": {
        "id": "5VNWTFS17k8H"
      },
      "source": [
        "## Step 3: One-Hot Encode the Labels"
      ]
    },
    {
      "cell_type": "code",
      "source": [
        "def one_hot_encode(y, num_classes):\n",
        "    return np.eye(num_classes)[y]\n",
        "\n",
        "# One-hot encode the labels\n",
        "num_classes = 10\n",
        "y_train_one_hot = one_hot_encode(y_train, num_classes)\n",
        "y_test_one_hot = one_hot_encode(y_test, num_classes)\n"
      ],
      "metadata": {
        "id": "loQ9hIH9Cwh5"
      },
      "execution_count": null,
      "outputs": []
    },
    {
      "cell_type": "markdown",
      "source": [
        "# Step 4: Implement Least Squares Model"
      ],
      "metadata": {
        "id": "BCfoqiNPCxzY"
      }
    },
    {
      "cell_type": "code",
      "source": [
        "# Using np.linalg.lstsq to compute the weight matrix\n",
        "W, residuals, rank, s = np.linalg.lstsq(X_train, y_train_one_hot, rcond=None)"
      ],
      "metadata": {
        "id": "SCkyfSY2C6bZ"
      },
      "execution_count": null,
      "outputs": []
    },
    {
      "cell_type": "markdown",
      "source": [
        "# Step 5: Prediction and Evaluation"
      ],
      "metadata": {
        "id": "8xgoudxdC9FM"
      }
    },
    {
      "cell_type": "code",
      "source": [
        "# Prediction function\n",
        "def predict(X, W):\n",
        "    predictions = X @ W  # Matrix multiplication\n",
        "    return np.argmax(predictions, axis=1)  # Select class with highest score\n",
        "\n",
        "# Predict labels for training and test sets\n",
        "y_train_pred = predict(X_train, W)\n",
        "y_test_pred = predict(X_test, W)\n",
        "\n",
        "# Calculate accuracy\n",
        "train_accuracy = np.mean(y_train_pred == y_train) * 100\n",
        "test_accuracy = np.mean(y_test_pred == y_test) * 100\n",
        "\n",
        "print(\"Training Accuracy:\", train_accuracy, \"%\")\n",
        "print(\"Test Accuracy:\", test_accuracy, \"%\")"
      ],
      "metadata": {
        "colab": {
          "base_uri": "https://localhost:8080/"
        },
        "id": "le3B2HPODChD",
        "outputId": "0d4d9354-0d8c-4d38-9b5e-a967fc006b2a"
      },
      "execution_count": null,
      "outputs": [
        {
          "output_type": "stream",
          "name": "stdout",
          "text": [
            "Training Accuracy: 85.94821428571429 %\n",
            "Test Accuracy: 85.38571428571429 %\n"
          ]
        }
      ]
    },
    {
      "cell_type": "markdown",
      "source": [
        "\n",
        "# Step 6: Visualization of Accurately Predicted Images"
      ],
      "metadata": {
        "id": "akgm7CHiDIAI"
      }
    },
    {
      "cell_type": "code",
      "source": [
        "def visualize_predictions(X, y_true, y_pred, title=\"Correct Predictions\", correct=True, num_images=5):\n",
        "    indices = np.where((y_true == y_pred) if correct else (y_true != y_pred))[0]\n",
        "    selected_indices = np.random.choice(indices, num_images, replace=False)\n",
        "\n",
        "    plt.figure(figsize=(10, 2))\n",
        "    plt.suptitle(title, y=1.1)\n",
        "    for i, idx in enumerate(selected_indices):\n",
        "        image = X[idx].reshape(28, 28)  # Reshape flat 784 array to 28x28 image\n",
        "        plt.subplot(1, num_images, i + 1)\n",
        "        plt.imshow(image, cmap=\"gray\")\n",
        "        plt.axis(\"off\")\n",
        "        plt.title(f\"Pred: {y_pred[idx]}\")\n",
        "    plt.show()\n",
        "\n",
        "# Display correctly predicted images\n",
        "visualize_predictions(X_test, y_test, y_test_pred, title=\"Correct Predictions\", correct=True, num_images=5)\n",
        "\n",
        "# Optional: Visualization of Misclassified Images\n",
        "visualize_predictions(X_test, y_test, y_test_pred, title=\"Misclassified Images\", correct=False, num_images=5)"
      ],
      "metadata": {
        "colab": {
          "base_uri": "https://localhost:8080/",
          "height": 431
        },
        "id": "c32WLty6DEf7",
        "outputId": "957c2a76-95b8-45da-f77c-fb713a596f9f"
      },
      "execution_count": null,
      "outputs": [
        {
          "output_type": "display_data",
          "data": {
            "text/plain": [
              "<Figure size 1000x200 with 5 Axes>"
            ],
            "image/png": "[encoded data removed]"
          },
          "metadata": {}
        },
        {
          "output_type": "display_data",
          "data": {
            "text/plain": [
              "<Figure size 1000x200 with 5 Axes>"
            ],
            "image/png": "[encoded data removed]"
          },
          "metadata": {}
        }
      ]
    }
  ]
}